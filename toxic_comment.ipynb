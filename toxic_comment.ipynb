{
 "cells": [
  {
   "cell_type": "code",
   "execution_count": 25,
   "id": "075e2f5c-1b03-4a8a-b7d7-eadc0c42977a",
   "metadata": {},
   "outputs": [
    {
     "name": "stdout",
     "output_type": "stream",
     "text": [
      "/home/kwamena/miniconda3/bin/python\n"
     ]
    }
   ],
   "source": [
    "import pandas as pd\n",
    "from sklearn.model_selection import train_test_split\n",
    "from tensorflow.keras.preprocessing.text import Tokenizer\n",
    "from tensorflow.keras.preprocessing.sequence import pad_sequences\n",
    "from tensorflow.keras.models import Sequential\n",
    "from tensorflow.keras.layers import Embedding, LSTM, Dense, Dropout\n",
    "import numpy as np\n",
    "import matplotlib.pyplot as plt\n",
    "import sys"
   ]
  },
  {
   "cell_type": "code",
   "execution_count": 26,
   "id": "d4df3773-1d77-4106-b7bb-16be09646b42",
   "metadata": {},
   "outputs": [],
   "source": [
    "\n",
    "# Load your dataset\n",
    "df = pd.read_csv('https://raw.githubusercontent.com/cyber-kwamena/set/main/sample_submission.csv')\n",
    "\n"
   ]
  },
  {
   "cell_type": "code",
   "execution_count": 16,
   "id": "78bab54e-1905-4618-b180-f8905ef5fe96",
   "metadata": {},
   "outputs": [
    {
     "name": "stdout",
     "output_type": "stream",
     "text": [
      "Index(['id', 'toxic', 'severe_toxic', 'obscene', 'threat', 'insult',\n",
      "       'identity_hate'],\n",
      "      dtype='object')\n"
     ]
    }
   ],
   "source": [
    "# Data cleaning and exploration if needed\n",
    "# Display the column names of your DataFrame\n",
    "print(df.columns)\n"
   ]
  },
  {
   "cell_type": "code",
   "execution_count": 27,
   "id": "1c647501-3efd-448f-95e1-93cb426c4014",
   "metadata": {},
   "outputs": [],
   "source": [
    "\n",
    "# Tokenization and Padding\n",
    "tokenizer = Tokenizer(num_words=5000, oov_token='<OOV>')\n",
    "tokenizer.fit_on_texts(df['id'])\n",
    "sequences = tokenizer.texts_to_sequences(df['id'])\n",
    "padded = pad_sequences(sequences, maxlen=200, padding='post', truncating='post')\n"
   ]
  },
  {
   "cell_type": "code",
   "execution_count": 28,
   "id": "d308fac7-f2f5-4154-aee4-5afed3f0c389",
   "metadata": {},
   "outputs": [],
   "source": [
    "\n",
    "# Multi-label classification\n",
    "label_columns = ['toxic', 'severe_toxic', 'obscene', 'threat', 'insult', 'identity_hate']\n",
    "labels = df[label_columns]\n"
   ]
  },
  {
   "cell_type": "code",
   "execution_count": 29,
   "id": "e4de4a8d-69bb-4c24-8330-808291ef2739",
   "metadata": {},
   "outputs": [],
   "source": [
    "\n",
    "# Splitting data\n",
    "X_train, X_test, y_train, y_test = train_test_split(padded, labels, test_size=0.2, random_state=0, shuffle=True, stratify=labels)\n"
   ]
  },
  {
   "cell_type": "code",
   "execution_count": 30,
   "id": "38fd6af7-3fcb-41ca-a3f0-84d0fc7722df",
   "metadata": {},
   "outputs": [
    {
     "name": "stdout",
     "output_type": "stream",
     "text": [
      "Model: \"sequential_1\"\n",
      "_________________________________________________________________\n",
      " Layer (type)                Output Shape              Param #   \n",
      "=================================================================\n",
      " embedding_1 (Embedding)     (None, 200, 32)           160000    \n",
      "                                                                 \n",
      " lstm_1 (LSTM)               (None, 64)                24832     \n",
      "                                                                 \n",
      " dense_1 (Dense)             (None, 6)                 390       \n",
      "                                                                 \n",
      "=================================================================\n",
      "Total params: 185222 (723.52 KB)\n",
      "Trainable params: 185222 (723.52 KB)\n",
      "Non-trainable params: 0 (0.00 Byte)\n",
      "_________________________________________________________________\n"
     ]
    }
   ],
   "source": [
    "\n",
    "# Building the RNN model\n",
    "model = Sequential()\n",
    "model.add(Embedding(input_dim=5000, output_dim=32, input_length=200))\n",
    "model.add(LSTM(64, dropout=0.2))\n",
    "model.add(Dense(6, activation='sigmoid'))  # 6 categories\n",
    "\n",
    "model.compile(loss='binary_crossentropy', optimizer='adam', metrics=['accuracy'])\n",
    "\n",
    "model.summary()\n"
   ]
  },
  {
   "cell_type": "code",
   "execution_count": 20,
   "id": "57f45e9f-6877-4f42-a9e4-e88956fdd914",
   "metadata": {
    "scrolled": true
   },
   "outputs": [
    {
     "name": "stdout",
     "output_type": "stream",
     "text": [
      "Epoch 1/5\n",
      "3830/3830 [==============================] - 568s 148ms/step - loss: 0.6931 - accuracy: 0.1351 - val_loss: 0.6932 - val_accuracy: 1.0000\n",
      "Epoch 2/5\n",
      "3830/3830 [==============================] - 553s 144ms/step - loss: 0.6931 - accuracy: 0.1404 - val_loss: 0.6932 - val_accuracy: 0.0000e+00\n",
      "Epoch 3/5\n",
      "3830/3830 [==============================] - 554s 145ms/step - loss: 0.6931 - accuracy: 0.1455 - val_loss: 0.6932 - val_accuracy: 0.0000e+00\n",
      "Epoch 4/5\n",
      "3830/3830 [==============================] - 557s 145ms/step - loss: 0.6931 - accuracy: 0.1589 - val_loss: 0.6932 - val_accuracy: 0.0000e+00\n",
      "Epoch 5/5\n",
      "3830/3830 [==============================] - 558s 146ms/step - loss: 0.6931 - accuracy: 0.1530 - val_loss: 0.6932 - val_accuracy: 0.0000e+00\n"
     ]
    }
   ],
   "source": [
    "\n",
    "# Training the model\n",
    "model.fit(X_train, y_train, epochs=5, batch_size=32, validation_data=(X_test, y_test))\n",
    "\n",
    "# Save the model\n",
    "model.save('toxic_model.keras')\n"
   ]
  },
  {
   "cell_type": "code",
   "execution_count": 21,
   "id": "b5ffbb48-904e-4a03-8972-3e2e8dc2058d",
   "metadata": {},
   "outputs": [
    {
     "data": {
      "text/plain": [
       "(153164, 7)"
      ]
     },
     "execution_count": 21,
     "metadata": {},
     "output_type": "execute_result"
    }
   ],
   "source": [
    "df.shape"
   ]
  },
  {
   "cell_type": "code",
   "execution_count": 32,
   "id": "dc0a4f90-1e9f-4cea-a25b-58103ec6ac1d",
   "metadata": {},
   "outputs": [
    {
     "data": {
      "text/plain": [
       "id\n",
       "ffffce3fb183ee80    1\n",
       "00001cee341fdb12    1\n",
       "0000247867823ef7    1\n",
       "00013b17ad220c46    1\n",
       "00017563c3f7919a    1\n",
       "                   ..\n",
       "000634272d0d44eb    1\n",
       "000663aff0fffc80    1\n",
       "000689dd34e20979    1\n",
       "000834769115370c    1\n",
       "000844b52dee5f3f    1\n",
       "Name: count, Length: 153164, dtype: int64"
      ]
     },
     "execution_count": 32,
     "metadata": {},
     "output_type": "execute_result"
    }
   ],
   "source": [
    "df['id'].value_counts()"
   ]
  },
  {
   "cell_type": "code",
   "execution_count": 13,
   "id": "d370fea7-aace-498d-a3da-cee8607925aa",
   "metadata": {},
   "outputs": [
    {
     "name": "stdout",
     "output_type": "stream",
     "text": [
      "958/958 [==============================] - 41s 43ms/step - loss: 0.6932 - accuracy: 0.0000e+00\n",
      "Accuracy: 0.00%\n"
     ]
    }
   ],
   "source": [
    "\n",
    "# Evaluation of the model\n",
    "loss, accuracy = model.evaluate(X_test, y_test)\n",
    "print(f\"Accuracy: {accuracy*100:.2f}%\")\n"
   ]
  },
  {
   "cell_type": "code",
   "execution_count": null,
   "id": "a8cef052-53b6-4c3c-9628-a4551d5e4797",
   "metadata": {},
   "outputs": [],
   "source": []
  },
  {
   "cell_type": "code",
   "execution_count": null,
   "id": "9304323d-d138-474b-8af6-ad7b4f2da42b",
   "metadata": {},
   "outputs": [],
   "source": []
  }
 ],
 "metadata": {
  "kernelspec": {
   "display_name": "Python (base)",
   "language": "python",
   "name": "your_env_name"
  },
  "language_info": {
   "codemirror_mode": {
    "name": "ipython",
    "version": 3
   },
   "file_extension": ".py",
   "mimetype": "text/x-python",
   "name": "python",
   "nbconvert_exporter": "python",
   "pygments_lexer": "ipython3",
   "version": "3.11.4"
  }
 },
 "nbformat": 4,
 "nbformat_minor": 5
}
